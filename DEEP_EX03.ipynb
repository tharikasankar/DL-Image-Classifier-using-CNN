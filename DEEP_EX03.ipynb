{
  "nbformat": 4,
  "nbformat_minor": 0,
  "metadata": {
    "colab": {
      "provenance": []
    },
    "kernelspec": {
      "name": "python3",
      "display_name": "Python 3"
    },
    "language_info": {
      "name": "python"
    }
  },
  "cells": [
    {
      "cell_type": "code",
      "execution_count": 1,
      "metadata": {
        "id": "kNDlTVx382vw"
      },
      "outputs": [],
      "source": [
        "\n",
        "import torch\n",
        "import torch.nn as nn\n",
        "import torch.nn.functional as F\n",
        "from torch.utils.data import Dataset, DataLoader\n",
        "from sklearn.model_selection import train_test_split\n",
        "import pandas as pd\n",
        "import matplotlib.pyplot as plt\n",
        "%matplotlib inline"
      ]
    },
    {
      "cell_type": "code",
      "source": [
        "\n",
        "X = torch.linspace(1,50,50).reshape(-1,1)"
      ],
      "metadata": {
        "id": "u1lj81ek899n"
      },
      "execution_count": 2,
      "outputs": []
    },
    {
      "cell_type": "code",
      "source": [
        "torch.manual_seed(71) # to obtain reproducible results\n",
        "e = torch.randint(-8,9,(50,1),dtype=torch.float)\n",
        "#print(e.sum())"
      ],
      "metadata": {
        "id": "7UcSzg8k9F4t"
      },
      "execution_count": 3,
      "outputs": []
    },
    {
      "cell_type": "code",
      "source": [
        "y = 2*X + 1 + e\n",
        "print(y.shape)"
      ],
      "metadata": {
        "colab": {
          "base_uri": "https://localhost:8080/"
        },
        "id": "Kh4EcllV9Ifi",
        "outputId": "b53991fc-b2de-4b95-a254-6f5c6b8080d1"
      },
      "execution_count": 4,
      "outputs": [
        {
          "output_type": "stream",
          "name": "stdout",
          "text": [
            "torch.Size([50, 1])\n"
          ]
        }
      ]
    },
    {
      "cell_type": "code",
      "source": [
        "\n",
        "plt.scatter(X.numpy(), y.numpy(),color='red')  # Scatter plot of data points\n",
        "plt.xlabel('x')\n",
        "plt.ylabel('y')\n",
        "plt.title('Generated Data for Linear Regression')\n",
        "plt.show()\n"
      ],
      "metadata": {
        "colab": {
          "base_uri": "https://localhost:8080/",
          "height": 472
        },
        "id": "rw1_1iUJ9K2z",
        "outputId": "6b3a3df6-e007-4d5f-f209-bfd92bfd6ee3"
      },
      "execution_count": 5,
      "outputs": [
        {
          "output_type": "display_data",
          "data": {
            "text/plain": [
              "<Figure size 640x480 with 1 Axes>"
            ],
            "image/png": "[encoded data removed]"
          },
          "metadata": {}
        }
      ]
    },
    {
      "cell_type": "code",
      "source": [
        "\n",
        "\n",
        "\n",
        "# Setting a manual seed for reproducibility\n",
        "torch.manual_seed(59)\n",
        "\n",
        "# Defining the model class\n",
        "class Model(nn.Module):\n",
        "    def __init__(self, in_features, out_features):\n",
        "        super().__init__()\n",
        "        self.linear = nn.Linear(in_features, out_features)\n",
        "\n",
        "    def forward(self, x):\n",
        "        y_pred = self.linear(x)\n",
        "        return y_pred\n",
        "\n",
        "\n",
        "# Creating an instance of the model\n",
        "torch.manual_seed(59)\n",
        "model = Model(1, 1)\n",
        "print('Weight:', model.linear.weight.item())\n",
        "print('Bias:  ', model.linear.bias.item())"
      ],
      "metadata": {
        "colab": {
          "base_uri": "https://localhost:8080/"
        },
        "id": "bxUfk78t9Nog",
        "outputId": "66f243f4-743e-4af0-b228-49763bd05fbe"
      },
      "execution_count": 6,
      "outputs": [
        {
          "output_type": "stream",
          "name": "stdout",
          "text": [
            "Weight: 0.10597813129425049\n",
            "Bias:   0.9637961387634277\n"
          ]
        }
      ]
    },
    {
      "cell_type": "code",
      "source": [
        "loss_function = nn.MSELoss()  # Mean Squared Error (MSE) loss\n",
        "\n",
        "optimizer = torch.optim.SGD(model.parameters(), lr=0.001)\n",
        "\n",
        "\n",
        "epochs = 50  # Number of training iterations\n",
        "losses = []  # List to store loss values\n",
        "\n",
        "for epoch in range(1, epochs + 1):  # Start from 1 to 50\n",
        "    optimizer.zero_grad()  # Clear previous gradients\n",
        "    y_pred = model(X)  # Forward pass\n",
        "    loss = loss_function(y_pred, y)  # Compute loss\n",
        "    losses.append(loss.item())  # Store loss value\n",
        "\n",
        "    loss.backward()  # Compute gradients\n",
        "    optimizer.step()  # Update weights\n",
        "\n",
        "    # Print loss, weight, and bias for EVERY epoch (1 to 50)\n",
        "    print(f'epoch: {epoch:2}  loss: {loss.item():10.8f}  '\n",
        "          f'weight: {model.linear.weight.item():10.8f}  '\n",
        "          f'bias: {model.linear.bias.item():10.8f}')"
      ],
      "metadata": {
        "colab": {
          "base_uri": "https://localhost:8080/"
        },
        "id": "0FuTay5z9Quh",
        "outputId": "4c9cf47e-e7d9-44d1-e2fb-bfa33797a06e"
      },
      "execution_count": 7,
      "outputs": [
        {
          "output_type": "stream",
          "name": "stdout",
          "text": [
            "epoch:  1  loss: 3057.21679688  weight: 3.33490014  bias: 1.06046367\n",
            "epoch:  2  loss: 1588.53063965  weight: 1.01483285  bias: 0.99226284\n",
            "epoch:  3  loss: 830.29992676  weight: 2.68179941  bias: 1.04252183\n",
            "epoch:  4  loss: 438.85217285  weight: 1.48402131  bias: 1.00766504\n",
            "epoch:  5  loss: 236.76144409  weight: 2.34460592  bias: 1.03396463\n",
            "epoch:  6  loss: 132.42912292  weight: 1.72622538  bias: 1.01632178\n",
            "epoch:  7  loss: 78.56572723  weight: 2.17050409  bias: 1.03025162\n",
            "epoch:  8  loss: 50.75775909  weight: 1.85124576  bias: 1.02149546\n",
            "epoch:  9  loss: 36.40123367  weight: 2.08060074  bias: 1.02903891\n",
            "epoch: 10  loss: 28.98922920  weight: 1.91576838  bias: 1.02487016\n",
            "epoch: 11  loss: 25.16238213  weight: 2.03416562  bias: 1.02911627\n",
            "epoch: 12  loss: 23.18647385  weight: 1.94905841  bias: 1.02731562\n",
            "epoch: 13  loss: 22.16612625  weight: 2.01017213  bias: 1.02985907\n",
            "epoch: 14  loss: 21.63911057  weight: 1.96622372  bias: 1.02928054\n",
            "epoch: 15  loss: 21.36677170  weight: 1.99776423  bias: 1.03094459\n",
            "epoch: 16  loss: 21.22591782  weight: 1.97506487  bias: 1.03099668\n",
            "epoch: 17  loss: 21.15294647  weight: 1.99133754  bias: 1.03220642\n",
            "epoch: 18  loss: 21.11500931  weight: 1.97960854  bias: 1.03258383\n",
            "epoch: 19  loss: 21.09517670  weight: 1.98799884  bias: 1.03355861\n",
            "epoch: 20  loss: 21.08468437  weight: 1.98193336  bias: 1.03410351\n",
            "epoch: 21  loss: 21.07901382  weight: 1.98625445  bias: 1.03495669\n",
            "epoch: 22  loss: 21.07583046  weight: 1.98311269  bias: 1.03558779\n",
            "epoch: 23  loss: 21.07393837  weight: 1.98533309  bias: 1.03637791\n",
            "epoch: 24  loss: 21.07270050  weight: 1.98370099  bias: 1.03705311\n",
            "epoch: 25  loss: 21.07181931  weight: 1.98483658  bias: 1.03781021\n",
            "epoch: 26  loss: 21.07110596  weight: 1.98398376  bias: 1.03850794\n",
            "epoch: 27  loss: 21.07048607  weight: 1.98455977  bias: 1.03924775\n",
            "epoch: 28  loss: 21.06991386  weight: 1.98410904  bias: 1.03995669\n",
            "epoch: 29  loss: 21.06936836  weight: 1.98439610  bias: 1.04068720\n",
            "epoch: 30  loss: 21.06883812  weight: 1.98415291  bias: 1.04140162\n",
            "epoch: 31  loss: 21.06830788  weight: 1.98429084  bias: 1.04212701\n",
            "epoch: 32  loss: 21.06778145  weight: 1.98415494  bias: 1.04284394\n",
            "epoch: 33  loss: 21.06726074  weight: 1.98421574  bias: 1.04356635\n",
            "epoch: 34  loss: 21.06674004  weight: 1.98413551  bias: 1.04428422\n",
            "epoch: 35  loss: 21.06622505  weight: 1.98415649  bias: 1.04500473\n",
            "epoch: 36  loss: 21.06570816  weight: 1.98410451  bias: 1.04572272\n",
            "epoch: 37  loss: 21.06518745  weight: 1.98410523  bias: 1.04644191\n",
            "epoch: 38  loss: 21.06466866  weight: 1.98406804  bias: 1.04715967\n",
            "epoch: 39  loss: 21.06415749  weight: 1.98405814  bias: 1.04787791\n",
            "epoch: 40  loss: 21.06363678  weight: 1.98402870  bias: 1.04859519\n",
            "epoch: 41  loss: 21.06312561  weight: 1.98401320  bias: 1.04931259\n",
            "epoch: 42  loss: 21.06260681  weight: 1.98398757  bias: 1.05002928\n",
            "epoch: 43  loss: 21.06209564  weight: 1.98396957  bias: 1.05074584\n",
            "epoch: 44  loss: 21.06157684  weight: 1.98394585  bias: 1.05146194\n",
            "epoch: 45  loss: 21.06106949  weight: 1.98392630  bias: 1.05217779\n",
            "epoch: 46  loss: 21.06055450  weight: 1.98390377  bias: 1.05289316\n",
            "epoch: 47  loss: 21.06004333  weight: 1.98388338  bias: 1.05360830\n",
            "epoch: 48  loss: 21.05953217  weight: 1.98386145  bias: 1.05432308\n",
            "epoch: 49  loss: 21.05901337  weight: 1.98384094  bias: 1.05503750\n",
            "epoch: 50  loss: 21.05850983  weight: 1.98381913  bias: 1.05575156\n"
          ]
        }
      ]
    },
    {
      "cell_type": "code",
      "source": [
        "plt.plot(range(epochs), losses)\n",
        "plt.ylabel('Loss')\n",
        "plt.xlabel('epoch');\n",
        "plt.show()"
      ],
      "metadata": {
        "colab": {
          "base_uri": "https://localhost:8080/",
          "height": 449
        },
        "id": "dA8FjD3Y9XFj",
        "outputId": "0fb6c697-07b1-4596-8f88-02087043e8b2"
      },
      "execution_count": 8,
      "outputs": [
        {
          "output_type": "display_data",
          "data": {
            "text/plain": [
              "<Figure size 640x480 with 1 Axes>"
            ],
            "image/png": "[encoded data removed]"
          },
          "metadata": {}
        }
      ]
    },
    {
      "cell_type": "code",
      "source": [
        "\n",
        "# Automatically determine x-range\n",
        "x1 = torch.tensor([X.min().item(), X.max().item()])\n",
        "\n",
        "# Extract model parameters\n",
        "w1, b1 = model.linear.weight.item(), model.linear.bias.item()\n",
        "\n",
        "# Compute y1 (predicted values)\n",
        "y1 = x1 * w1 + b1"
      ],
      "metadata": {
        "id": "88bo_9gX9c5-"
      },
      "execution_count": 9,
      "outputs": []
    },
    {
      "cell_type": "code",
      "source": [
        "\n",
        "torch.save(model.state_dict(),'Tharika S.pt')"
      ],
      "metadata": {
        "id": "dgZwJKDL9jO-"
      },
      "execution_count": 10,
      "outputs": []
    },
    {
      "cell_type": "code",
      "source": [],
      "metadata": {
        "id": "8bUz8NRs9pBm"
      },
      "execution_count": null,
      "outputs": []
    }
  ]
}